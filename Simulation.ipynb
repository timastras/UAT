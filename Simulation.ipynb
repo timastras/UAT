{
  "nbformat": 4,
  "nbformat_minor": 0,
  "metadata": {
    "colab": {
      "provenance": [],
      "authorship_tag": "ABX9TyPvI3P3uaCs1iKsM4CVWJ3N",
      "include_colab_link": true
    },
    "kernelspec": {
      "name": "python3",
      "display_name": "Python 3"
    },
    "language_info": {
      "name": "python"
    }
  },
  "cells": [
    {
      "cell_type": "markdown",
      "metadata": {
        "id": "view-in-github",
        "colab_type": "text"
      },
      "source": [
        "<a href=\"https://colab.research.google.com/github/timastras/UAT/blob/main/Simulation.ipynb\" target=\"_parent\"><img src=\"https://colab.research.google.com/assets/colab-badge.svg\" alt=\"Open In Colab\"/></a>"
      ]
    },
    {
      "cell_type": "code",
      "source": [
        "!pip install tiktoken -q\n",
        "!pip install cohere -q\n",
        "!pip install openai==0.28 -q\n"
      ],
      "metadata": {
        "id": "flGNpR4hQyJ9"
      },
      "execution_count": 3,
      "outputs": []
    },
    {
      "cell_type": "code",
      "source": [
        "import openai\n"
      ],
      "metadata": {
        "id": "qfQUqf7MQ2G5"
      },
      "execution_count": 4,
      "outputs": []
    },
    {
      "cell_type": "code",
      "source": [
        "import openai\n",
        "\n",
        "# Initialize OpenAI API with your provided key\n",
        "api_key = \"\"\n",
        "openai.api_key = api_key\n",
        "\n",
        "# Set up the system prompt\n",
        "system_prompt = (\"You are a Python programmer creating a simulation that allows users to explore a virtual world. \"\n",
        "                 \"You have designed various environments and scenarios, each with its own challenges and opportunities. \"\n",
        "                 \"Your goal is to create an immersive and engaging experience that will keep users coming back for more.\")\n",
        "\n",
        "# Function to get OpenAI response using the completion endpoint\n",
        "def get_openai_response(user_prompt):\n",
        "    full_prompt = system_prompt + \"\\n\" + user_prompt\n",
        "    try:\n",
        "        response = openai.Completion.create(\n",
        "            model=\"text-davinci-003\",  # Adjust model if needed\n",
        "            prompt=full_prompt,\n",
        "            max_tokens=1000\n",
        "        )\n",
        "        response_text = response.choices[0].text.strip()\n",
        "        return response_text\n",
        "    except Exception as e:\n",
        "        return f\"An error occurred: {e}\"\n",
        "\n",
        "# Function to summarize the journey\n",
        "def summarize_journey(journey):\n",
        "    summary_prompt = \"Summarize the following virtual world journey:\\n\" + journey\n",
        "    try:\n",
        "        response = openai.Completion.create(\n",
        "            model=\"text-davinci-003\",  # Adjust model if needed\n",
        "            prompt=summary_prompt,\n",
        "            max_tokens=150  # Limit the summary length\n",
        "        )\n",
        "        summary_text = response.choices[0].text.strip()\n",
        "        return summary_text\n",
        "    except Exception as e:\n",
        "        return f\"An error occurred: {e}\"\n",
        "\n",
        "# Welcome message for the user\n",
        "print(\"Welcome to the virtual world simulation!\")\n",
        "\n",
        "# Variables to track user inputs and journey\n",
        "user_inputs = []\n",
        "question_count = 0\n",
        "max_questions = 10  # Set the number of questions before ending the simulation\n",
        "\n",
        "# Start the simulation with initial scenario\n",
        "initial_scenario = \"You find yourself standing in a lush green forest, surrounded by towering trees and the sounds of nature. What would you like to do?\"\n",
        "print(initial_scenario)\n",
        "user_input = input()\n",
        "user_inputs.append(user_input)\n",
        "print(get_openai_response(user_input))\n",
        "\n",
        "# Interaction loop for user inputs\n",
        "while question_count < max_questions:\n",
        "    user_input = input()\n",
        "    user_inputs.append(user_input)\n",
        "    print(get_openai_response(user_input))\n",
        "    question_count += 1\n",
        "\n",
        "# Ending the simulation and providing a summary\n",
        "journey_text = \"\\n\".join(user_inputs)\n",
        "journey_summary = summarize_journey(journey_text)\n",
        "print(\"Your journey has come to an end. Here's a summary of your adventure:\")\n",
        "print(journey_summary)\n"
      ],
      "metadata": {
        "colab": {
          "base_uri": "https://localhost:8080/",
          "height": 523
        },
        "id": "vH-1lo7_hrnu",
        "outputId": "96cb5f63-13aa-4d4d-eccd-7887b6af89ce"
      },
      "execution_count": 33,
      "outputs": [
        {
          "output_type": "stream",
          "name": "stdout",
          "text": [
            "Welcome to the virtual world simulation!\n",
            "You find yourself standing in a lush green forest, surrounded by towering trees and the sounds of nature. What would you like to do?\n",
            "explore\n",
            "To create an immersive and engaging experience, you need to ensure that your virtual world is filled with interesting challenges and opportunities for your users to explore. Consider creating various landscape features, such as forests, mountains, and rivers, that will provide your users with different styles of play. Incorporate dynamic elements such as weather and changing seasons to keep the environment alive. You could also add a range of goals and rewards, such as collecting coins, unlocking levels, and earning special items, that encourage players to keep advancing through the game. Additionally, think carefully about how you design the interface to ensure that it’s intuitive and easy to use. Finally, providing a helpful tutorial or guidebook is a great way to improve the user experience.\n",
            "create a chatbot business that explodes with ecomm sales overnight\n",
            "The first step would be to find a reliable and well-reviewed chatbot platform that offers appropriate features to handle your specific business needs. You'll also need to design the visuals and conversations for the chatbot in order to create an engaging and immersive experience for your users. After the chatbot is set up and activated, you'll need to focus on marketing it to attract users. This could be done through digital campaigns on social media, through SEO techniques, or by running targeted Ads on search engines. Finally, it's important to have your customer service team ready to help with any issues that arise. With these steps in place, your chatbot should be able to attract users and help drive sales.\n"
          ]
        },
        {
          "output_type": "error",
          "ename": "KeyboardInterrupt",
          "evalue": "ignored",
          "traceback": [
            "\u001b[0;31m---------------------------------------------------------------------------\u001b[0m",
            "\u001b[0;31mKeyboardInterrupt\u001b[0m                         Traceback (most recent call last)",
            "\u001b[0;32m<ipython-input-33-5c4a6dd0a41f>\u001b[0m in \u001b[0;36m<cell line: 56>\u001b[0;34m()\u001b[0m\n\u001b[1;32m     55\u001b[0m \u001b[0;31m# Interaction loop for user inputs\u001b[0m\u001b[0;34m\u001b[0m\u001b[0;34m\u001b[0m\u001b[0m\n\u001b[1;32m     56\u001b[0m \u001b[0;32mwhile\u001b[0m \u001b[0mquestion_count\u001b[0m \u001b[0;34m<\u001b[0m \u001b[0mmax_questions\u001b[0m\u001b[0;34m:\u001b[0m\u001b[0;34m\u001b[0m\u001b[0;34m\u001b[0m\u001b[0m\n\u001b[0;32m---> 57\u001b[0;31m     \u001b[0muser_input\u001b[0m \u001b[0;34m=\u001b[0m \u001b[0minput\u001b[0m\u001b[0;34m(\u001b[0m\u001b[0;34m)\u001b[0m\u001b[0;34m\u001b[0m\u001b[0;34m\u001b[0m\u001b[0m\n\u001b[0m\u001b[1;32m     58\u001b[0m     \u001b[0muser_inputs\u001b[0m\u001b[0;34m.\u001b[0m\u001b[0mappend\u001b[0m\u001b[0;34m(\u001b[0m\u001b[0muser_input\u001b[0m\u001b[0;34m)\u001b[0m\u001b[0;34m\u001b[0m\u001b[0;34m\u001b[0m\u001b[0m\n\u001b[1;32m     59\u001b[0m     \u001b[0mprint\u001b[0m\u001b[0;34m(\u001b[0m\u001b[0mget_openai_response\u001b[0m\u001b[0;34m(\u001b[0m\u001b[0muser_input\u001b[0m\u001b[0;34m)\u001b[0m\u001b[0;34m)\u001b[0m\u001b[0;34m\u001b[0m\u001b[0;34m\u001b[0m\u001b[0m\n",
            "\u001b[0;32m/usr/local/lib/python3.10/dist-packages/ipykernel/kernelbase.py\u001b[0m in \u001b[0;36mraw_input\u001b[0;34m(self, prompt)\u001b[0m\n\u001b[1;32m    849\u001b[0m                 \u001b[0;34m\"raw_input was called, but this frontend does not support input requests.\"\u001b[0m\u001b[0;34m\u001b[0m\u001b[0;34m\u001b[0m\u001b[0m\n\u001b[1;32m    850\u001b[0m             )\n\u001b[0;32m--> 851\u001b[0;31m         return self._input_request(str(prompt),\n\u001b[0m\u001b[1;32m    852\u001b[0m             \u001b[0mself\u001b[0m\u001b[0;34m.\u001b[0m\u001b[0m_parent_ident\u001b[0m\u001b[0;34m,\u001b[0m\u001b[0;34m\u001b[0m\u001b[0;34m\u001b[0m\u001b[0m\n\u001b[1;32m    853\u001b[0m             \u001b[0mself\u001b[0m\u001b[0;34m.\u001b[0m\u001b[0m_parent_header\u001b[0m\u001b[0;34m,\u001b[0m\u001b[0;34m\u001b[0m\u001b[0;34m\u001b[0m\u001b[0m\n",
            "\u001b[0;32m/usr/local/lib/python3.10/dist-packages/ipykernel/kernelbase.py\u001b[0m in \u001b[0;36m_input_request\u001b[0;34m(self, prompt, ident, parent, password)\u001b[0m\n\u001b[1;32m    893\u001b[0m             \u001b[0;32mexcept\u001b[0m \u001b[0mKeyboardInterrupt\u001b[0m\u001b[0;34m:\u001b[0m\u001b[0;34m\u001b[0m\u001b[0;34m\u001b[0m\u001b[0m\n\u001b[1;32m    894\u001b[0m                 \u001b[0;31m# re-raise KeyboardInterrupt, to truncate traceback\u001b[0m\u001b[0;34m\u001b[0m\u001b[0;34m\u001b[0m\u001b[0m\n\u001b[0;32m--> 895\u001b[0;31m                 \u001b[0;32mraise\u001b[0m \u001b[0mKeyboardInterrupt\u001b[0m\u001b[0;34m(\u001b[0m\u001b[0;34m\"Interrupted by user\"\u001b[0m\u001b[0;34m)\u001b[0m \u001b[0;32mfrom\u001b[0m \u001b[0;32mNone\u001b[0m\u001b[0;34m\u001b[0m\u001b[0;34m\u001b[0m\u001b[0m\n\u001b[0m\u001b[1;32m    896\u001b[0m             \u001b[0;32mexcept\u001b[0m \u001b[0mException\u001b[0m \u001b[0;32mas\u001b[0m \u001b[0me\u001b[0m\u001b[0;34m:\u001b[0m\u001b[0;34m\u001b[0m\u001b[0;34m\u001b[0m\u001b[0m\n\u001b[1;32m    897\u001b[0m                 \u001b[0mself\u001b[0m\u001b[0;34m.\u001b[0m\u001b[0mlog\u001b[0m\u001b[0;34m.\u001b[0m\u001b[0mwarning\u001b[0m\u001b[0;34m(\u001b[0m\u001b[0;34m\"Invalid Message:\"\u001b[0m\u001b[0;34m,\u001b[0m \u001b[0mexc_info\u001b[0m\u001b[0;34m=\u001b[0m\u001b[0;32mTrue\u001b[0m\u001b[0;34m)\u001b[0m\u001b[0;34m\u001b[0m\u001b[0;34m\u001b[0m\u001b[0m\n",
            "\u001b[0;31mKeyboardInterrupt\u001b[0m: Interrupted by user"
          ]
        }
      ]
    }
  ]
}